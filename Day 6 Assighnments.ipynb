{
 "cells": [
  {
   "cell_type": "markdown",
   "metadata": {},
   "source": [
    "# Question 1\n"
   ]
  },
  {
   "cell_type": "raw",
   "metadata": {},
   "source": [
    "\n",
    "Assuming that we have some email adresses in \"username@companyname.com\" format,please write a program to print the company name of a given email address. both user names and comany names are composed of letters only.\n",
    "\n",
    "input format:\n",
    "the first line of the input contains an email address.\n",
    "\n",
    "output format :\n",
    "print the company name in single line\n",
    "\n",
    "example:\n",
    "input:\n",
    "jhon@google.com\n",
    "output:\n",
    "google"
   ]
  },
  {
   "cell_type": "code",
   "execution_count": 10,
   "metadata": {},
   "outputs": [
    {
     "name": "stdout",
     "output_type": "stream",
     "text": [
      "jhon@google.com\n"
     ]
    },
    {
     "data": {
      "text/plain": [
       "5"
      ]
     },
     "execution_count": 10,
     "metadata": {},
     "output_type": "execute_result"
    }
   ],
   "source": [
    "# using the \"find\" function to find the index value\n",
    "s = \"jhon@google.com\"\n",
    "print (s)\n",
    "s.find(\"g\")"
   ]
  },
  {
   "cell_type": "code",
   "execution_count": 11,
   "metadata": {},
   "outputs": [
    {
     "data": {
      "text/plain": [
       "10"
      ]
     },
     "execution_count": 11,
     "metadata": {},
     "output_type": "execute_result"
    }
   ],
   "source": [
    "# using the \"find\" function to find the index value\n",
    "s.find(\"e\")"
   ]
  },
  {
   "cell_type": "code",
   "execution_count": 14,
   "metadata": {},
   "outputs": [
    {
     "name": "stdout",
     "output_type": "stream",
     "text": [
      "jhon@google.com\n",
      "google\n"
     ]
    }
   ],
   "source": [
    "# by index value we using the slice function to get our output\n",
    "s = \"jhon@google.com\"\n",
    "print (s)\n",
    "print(s[5:11])"
   ]
  },
  {
   "cell_type": "markdown",
   "metadata": {},
   "source": [
    "# Question 2"
   ]
  },
  {
   "cell_type": "markdown",
   "metadata": {},
   "source": [
    "\n",
    "write a program that accepts a comma seperated sequence of words as input and print the words in a comma seperated sequence after sorting them alphabetically\n",
    "\n",
    "input:\n",
    "without,hello,bag,world\n",
    "output:\n",
    "bag,hello,without,world"
   ]
  },
  {
   "cell_type": "raw",
   "metadata": {},
   "source": [
    "input:\n",
    "without,hello,bag,world\n",
    "output:\n",
    "bag,hello,without,world"
   ]
  },
  {
   "cell_type": "code",
   "execution_count": 2,
   "metadata": {},
   "outputs": [
    {
     "name": "stdout",
     "output_type": "stream",
     "text": [
      "['without', 'hello', 'bag', 'world']\n",
      "['bag', 'hello', 'without', 'world']\n"
     ]
    }
   ],
   "source": [
    "q2=[\"without\",\"hello\",\"bag\",\"world\"]\n",
    "print(q2)\n",
    "q2.sort()\n",
    "print(q2)"
   ]
  },
  {
   "cell_type": "markdown",
   "metadata": {},
   "source": [
    "# Question 3"
   ]
  },
  {
   "cell_type": "markdown",
   "metadata": {},
   "source": [
    "create your own jupyter notebook for sets"
   ]
  },
  {
   "cell_type": "markdown",
   "metadata": {},
   "source": [
    "## set\n"
   ]
  },
  {
   "cell_type": "raw",
   "metadata": {},
   "source": [
    "set is a unordered & unindexed. \n",
    "every set element is unique. \n",
    "set is a immutable in nature like tupple\n",
    "{} ----> this brace brackets represent a set"
   ]
  },
  {
   "cell_type": "code",
   "execution_count": 8,
   "metadata": {},
   "outputs": [
    {
     "name": "stdout",
     "output_type": "stream",
     "text": [
      "{'aadhavan', 'kallakurichi', 'chennai'}\n"
     ]
    }
   ],
   "source": [
    "set = {\"aadhavan\",\"kallakurichi\",\"chennai\"}\n",
    "print(set)"
   ]
  },
  {
   "cell_type": "code",
   "execution_count": 14,
   "metadata": {},
   "outputs": [
    {
     "name": "stdout",
     "output_type": "stream",
     "text": [
      "{'aadhavan', 'kallakurichi', 'chennai'}\n",
      "<class 'set'>\n"
     ]
    }
   ],
   "source": [
    "set = {\"aadhavan\",\"kallakurichi\",\"chennai\"}\n",
    "print(set)\n",
    "print(type(set))"
   ]
  },
  {
   "cell_type": "code",
   "execution_count": 15,
   "metadata": {},
   "outputs": [
    {
     "ename": "TypeError",
     "evalue": "'set' object is not subscriptable",
     "output_type": "error",
     "traceback": [
      "\u001b[1;31m---------------------------------------------------------------------------\u001b[0m",
      "\u001b[1;31mTypeError\u001b[0m                                 Traceback (most recent call last)",
      "\u001b[1;32m<ipython-input-15-0614d1754aea>\u001b[0m in \u001b[0;36m<module>\u001b[1;34m\u001b[0m\n\u001b[0;32m      2\u001b[0m \u001b[1;31m#you cannot access items in a set by referring to an index or key\u001b[0m\u001b[1;33m\u001b[0m\u001b[1;33m\u001b[0m\u001b[1;33m\u001b[0m\u001b[0m\n\u001b[0;32m      3\u001b[0m \u001b[0mset\u001b[0m \u001b[1;33m=\u001b[0m \u001b[1;33m{\u001b[0m\u001b[1;34m\"aadhavan\"\u001b[0m\u001b[1;33m,\u001b[0m\u001b[1;34m\"kallakurichi\"\u001b[0m\u001b[1;33m,\u001b[0m\u001b[1;34m\"chennai\"\u001b[0m\u001b[1;33m}\u001b[0m\u001b[1;33m\u001b[0m\u001b[1;33m\u001b[0m\u001b[0m\n\u001b[1;32m----> 4\u001b[1;33m \u001b[0mprint\u001b[0m\u001b[1;33m(\u001b[0m\u001b[0mset\u001b[0m\u001b[1;33m[\u001b[0m\u001b[1;36m0\u001b[0m\u001b[1;33m]\u001b[0m\u001b[1;33m)\u001b[0m\u001b[1;33m\u001b[0m\u001b[1;33m\u001b[0m\u001b[0m\n\u001b[0m",
      "\u001b[1;31mTypeError\u001b[0m: 'set' object is not subscriptable"
     ]
    }
   ],
   "source": [
    "# since this is unorderd & unindexed  \n",
    "#you cannot access items in a set by referring to an index or key \n",
    "set = {\"aadhavan\",\"kallakurichi\",\"chennai\"}\n",
    "print(set[0])\n",
    "\n",
    "# as we discussed this is error"
   ]
  },
  {
   "cell_type": "markdown",
   "metadata": {},
   "source": [
    "## for loop in set"
   ]
  },
  {
   "cell_type": "code",
   "execution_count": 17,
   "metadata": {},
   "outputs": [
    {
     "name": "stdout",
     "output_type": "stream",
     "text": [
      "aadhavan\n",
      "kallakurichi\n",
      "chennai\n"
     ]
    }
   ],
   "source": [
    "# but you can use loop\n",
    "\n",
    "set1 = {\"aadhavan\",\"kallakurichi\",\"chennai\"}\n",
    "\n",
    "for i in  set1:\n",
    "    print(i)\n"
   ]
  },
  {
   "cell_type": "markdown",
   "metadata": {},
   "source": [
    "## membership operator in set"
   ]
  },
  {
   "cell_type": "code",
   "execution_count": 21,
   "metadata": {},
   "outputs": [
    {
     "name": "stdout",
     "output_type": "stream",
     "text": [
      "True\n"
     ]
    }
   ],
   "source": [
    "# you can ask is specified value is present in the set\n",
    "\n",
    "set1 = {\"pen\",\"pencil\",\"eraser\"}\n",
    "print(\"pen\" in set1)"
   ]
  },
  {
   "cell_type": "markdown",
   "metadata": {},
   "source": [
    "## add()\n",
    "to add one item in the set "
   ]
  },
  {
   "cell_type": "code",
   "execution_count": 22,
   "metadata": {},
   "outputs": [
    {
     "name": "stdout",
     "output_type": "stream",
     "text": [
      "{'pen', 'pencil', 'eraser', 'paper'}\n"
     ]
    }
   ],
   "source": [
    "# to add one item to the set you can use add()\n",
    "\n",
    "set1 = {\"pen\",\"pencil\",\"eraser\"}\n",
    "set1.add(\"paper\")\n",
    "\n",
    "print(set1)"
   ]
  },
  {
   "cell_type": "markdown",
   "metadata": {},
   "source": [
    "## update()\n",
    "to add more than one item in the set"
   ]
  },
  {
   "cell_type": "code",
   "execution_count": 31,
   "metadata": {},
   "outputs": [
    {
     "name": "stdout",
     "output_type": "stream",
     "text": [
      "{'greenpen', 'paper', 'pen', 'redpen', 'pencil', 'eraser'}\n"
     ]
    }
   ],
   "source": [
    "# to add more than one item in the set then you can use update()\n",
    "set1 = {\"pen\",\"pencil\",\"eraser\"}\n",
    "set1.update((\"paper\",\"redpen\",\"greenpen\")) \n",
    "print(set1)"
   ]
  },
  {
   "cell_type": "markdown",
   "metadata": {},
   "source": [
    "## len()\n",
    "here length of the set use to determine how many items in the set"
   ]
  },
  {
   "cell_type": "code",
   "execution_count": 32,
   "metadata": {},
   "outputs": [
    {
     "data": {
      "text/plain": [
       "3"
      ]
     },
     "execution_count": 32,
     "metadata": {},
     "output_type": "execute_result"
    }
   ],
   "source": [
    "set1 = {\"pen\",\"pencil\",\"eraser\"}\n",
    "len(set1)"
   ]
  },
  {
   "cell_type": "markdown",
   "metadata": {},
   "source": [
    "## remove() / discard()\n",
    "\n",
    "this both used to remove the item from the set"
   ]
  },
  {
   "cell_type": "code",
   "execution_count": 35,
   "metadata": {},
   "outputs": [
    {
     "name": "stdout",
     "output_type": "stream",
     "text": [
      "{'pencil', 'eraser'}\n"
     ]
    }
   ],
   "source": [
    "set1 = {\"pen\",\"pencil\",\"eraser\"}\n",
    "set1.remove(\"pen\")\n",
    "print(set1)"
   ]
  },
  {
   "cell_type": "code",
   "execution_count": 39,
   "metadata": {},
   "outputs": [
    {
     "name": "stdout",
     "output_type": "stream",
     "text": [
      "{'pencil', 'eraser'}\n"
     ]
    }
   ],
   "source": [
    "# mostly we dont use discard()\n",
    "# we prefer remove() only\n",
    "set1 = {\"pen\",\"pencil\",\"eraser\"}\n",
    "set1.discard(\"pen\")\n",
    "print(set1)"
   ]
  },
  {
   "cell_type": "markdown",
   "metadata": {},
   "source": [
    "## pop()\n",
    "remove the last item by using pop function"
   ]
  },
  {
   "cell_type": "code",
   "execution_count": 41,
   "metadata": {},
   "outputs": [
    {
     "name": "stdout",
     "output_type": "stream",
     "text": [
      "pen\n",
      "{'pencil', 'eraser'}\n"
     ]
    }
   ],
   "source": [
    "set1 = {\"pen\",\"pencil\",\"eraser\"}\n",
    "x=set1.pop()\n",
    "\n",
    "print(x)\n",
    "\n",
    "print(set1)"
   ]
  },
  {
   "cell_type": "markdown",
   "metadata": {},
   "source": [
    "## del()\n",
    "this used to delete the complete set"
   ]
  },
  {
   "cell_type": "code",
   "execution_count": 43,
   "metadata": {},
   "outputs": [
    {
     "ename": "NameError",
     "evalue": "name 'set1' is not defined",
     "output_type": "error",
     "traceback": [
      "\u001b[1;31m---------------------------------------------------------------------------\u001b[0m",
      "\u001b[1;31mNameError\u001b[0m                                 Traceback (most recent call last)",
      "\u001b[1;32m<ipython-input-43-9123ebf55151>\u001b[0m in \u001b[0;36m<module>\u001b[1;34m\u001b[0m\n\u001b[0;32m      1\u001b[0m \u001b[0mset1\u001b[0m \u001b[1;33m=\u001b[0m \u001b[1;33m{\u001b[0m\u001b[1;34m\"pen\"\u001b[0m\u001b[1;33m,\u001b[0m\u001b[1;34m\"pencil\"\u001b[0m\u001b[1;33m,\u001b[0m\u001b[1;34m\"eraser\"\u001b[0m\u001b[1;33m}\u001b[0m\u001b[1;33m\u001b[0m\u001b[1;33m\u001b[0m\u001b[0m\n\u001b[0;32m      2\u001b[0m \u001b[1;32mdel\u001b[0m \u001b[1;33m(\u001b[0m\u001b[0mset1\u001b[0m\u001b[1;33m)\u001b[0m\u001b[1;33m\u001b[0m\u001b[1;33m\u001b[0m\u001b[0m\n\u001b[1;32m----> 3\u001b[1;33m \u001b[0mprint\u001b[0m\u001b[1;33m(\u001b[0m\u001b[0mset1\u001b[0m\u001b[1;33m)\u001b[0m\u001b[1;33m\u001b[0m\u001b[1;33m\u001b[0m\u001b[0m\n\u001b[0m",
      "\u001b[1;31mNameError\u001b[0m: name 'set1' is not defined"
     ]
    }
   ],
   "source": [
    "set1 = {\"pen\",\"pencil\",\"eraser\"}\n",
    "del (set1)\n",
    "print(set1)  #this will raise the error because the set is no longer exists"
   ]
  },
  {
   "cell_type": "markdown",
   "metadata": {},
   "source": [
    "## clear()\n",
    "\n",
    "this will clear all the items in the set. then make this set as empty"
   ]
  },
  {
   "cell_type": "code",
   "execution_count": 44,
   "metadata": {},
   "outputs": [
    {
     "name": "stdout",
     "output_type": "stream",
     "text": [
      "set()\n"
     ]
    }
   ],
   "source": [
    "set1 = {\"pen\",\"pencil\",\"eraser\"}\n",
    "set1.clear()\n",
    "print (set1)"
   ]
  },
  {
   "cell_type": "markdown",
   "metadata": {},
   "source": [
    "## union()\n",
    "\n",
    "this will use to join two are more set\n",
    "\n"
   ]
  },
  {
   "cell_type": "code",
   "execution_count": 45,
   "metadata": {},
   "outputs": [
    {
     "name": "stdout",
     "output_type": "stream",
     "text": [
      "{'pen', 1, 2, 3, 'pencil', 'eraser'}\n"
     ]
    }
   ],
   "source": [
    "# joining two sets\n",
    "set1 = {\"pen\",\"pencil\",\"eraser\"}\n",
    "set2 = {1,2,3}\n",
    "\n",
    "set3= set1.union(set2)\n",
    "print(set3)"
   ]
  },
  {
   "cell_type": "code",
   "execution_count": 46,
   "metadata": {},
   "outputs": [
    {
     "name": "stdout",
     "output_type": "stream",
     "text": [
      "{1, 2, 3, 2.76, 5.76, 9.334, 'pen', 'pencil', 'eraser'}\n"
     ]
    }
   ],
   "source": [
    "#joining more than two sets\n",
    "set1 = {\"pen\",\"pencil\",\"eraser\"}\n",
    "set2 = {1,2,3}\n",
    "set3 = {2.76,5.76,9.334}\n",
    "\n",
    "set4= set1.union(set2).union(set3)\n",
    "print(set4)"
   ]
  },
  {
   "cell_type": "code",
   "execution_count": 47,
   "metadata": {},
   "outputs": [
    {
     "name": "stdout",
     "output_type": "stream",
     "text": [
      "{'pen', 1, 2, 3, 'pencil', 'eraser'}\n"
     ]
    }
   ],
   "source": [
    "# update() alsoo act in the same like union()\n",
    "set1 = {\"pen\",\"pencil\",\"eraser\"}\n",
    "set2 = {1,2,3}\n",
    "set1.update(set2)\n",
    "\n",
    "print(set1)"
   ]
  },
  {
   "cell_type": "markdown",
   "metadata": {},
   "source": [
    "## the set constructor\n",
    "\n",
    "this is used to make a set"
   ]
  },
  {
   "cell_type": "code",
   "execution_count": 51,
   "metadata": {},
   "outputs": [],
   "source": [
    "# s= set((\"pen\",\"pencil\",\"eraser\"))\n",
    "# print(s)\n",
    "\n",
    "## unfortuunately this program is showing error"
   ]
  },
  {
   "cell_type": "markdown",
   "metadata": {},
   "source": [
    "# Question 4"
   ]
  },
  {
   "cell_type": "markdown",
   "metadata": {},
   "source": [
    "Given a list of n-1 numbers ranging from 1 to n, your task is to find the missing number. \n",
    "There are no duplicates\n",
    "\n",
    "example\n",
    "input:\n",
    "(1,2,3,4,5)\n",
    "output:\n",
    "5"
   ]
  },
  {
   "cell_type": "code",
   "execution_count": 69,
   "metadata": {},
   "outputs": [
    {
     "name": "stdout",
     "output_type": "stream",
     "text": [
      "[2, 7, 9]\n"
     ]
    }
   ],
   "source": [
    "def find_missing(l1):\n",
    "    return [i for i in range(l1[0], l1[-1]+1) if i not in l1]\n",
    "\n",
    "l1=[1,3,4,5,6,8,10]\n",
    "print (find_missing(l1))\n",
    "    "
   ]
  },
  {
   "cell_type": "markdown",
   "metadata": {},
   "source": [
    "# Question 5"
   ]
  },
  {
   "cell_type": "raw",
   "metadata": {},
   "source": [
    "write a program to this L after removing all duplicate values with orginal order reserved.\n",
    "\n",
    "Example\n",
    "input:\n",
    "12 14 16 18 20 22 24 26 14 16 22 \n",
    "output:\n",
    "12 14 16 18 20 22 24 26"
   ]
  },
  {
   "cell_type": "code",
   "execution_count": 75,
   "metadata": {},
   "outputs": [
    {
     "name": "stdout",
     "output_type": "stream",
     "text": [
      "the list with duplicate is:[12, 14, 16, 18, 20, 22, 24, 26, 14, 16, 22]\n",
      "the new list is:[12, 14, 16, 18, 20, 22, 24, 26]\n"
     ]
    }
   ],
   "source": [
    "# initiating the list\n",
    "l1 = [12,14,16,18,20,22,24,26,14,16,22]\n",
    "print(\"the list with duplicate is:\" + str(l1))\n",
    "\n",
    "l2=[]\n",
    "for i in l1:\n",
    "    if i not in l2:\n",
    "        l2.append(i)\n",
    "\n",
    "#printing the list after removal\n",
    "print(\"the new list is:\" + str(l2))"
   ]
  },
  {
   "cell_type": "code",
   "execution_count": null,
   "metadata": {},
   "outputs": [],
   "source": []
  }
 ],
 "metadata": {
  "kernelspec": {
   "display_name": "Python 3",
   "language": "python",
   "name": "python3"
  },
  "language_info": {
   "codemirror_mode": {
    "name": "ipython",
    "version": 3
   },
   "file_extension": ".py",
   "mimetype": "text/x-python",
   "name": "python",
   "nbconvert_exporter": "python",
   "pygments_lexer": "ipython3",
   "version": "3.8.3"
  }
 },
 "nbformat": 4,
 "nbformat_minor": 4
}
