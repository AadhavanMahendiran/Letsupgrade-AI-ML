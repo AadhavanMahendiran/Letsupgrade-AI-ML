{
 "cells": [
  {
   "cell_type": "markdown",
   "metadata": {},
   "source": [
    "# Question 1\n",
    "\n",
    "Recreate \"NB 21 map,filter,lambda.ipynb\" to try different variations to perform different calculations from the ones\n",
    "that are in the NB\n"
   ]
  },
  {
   "cell_type": "code",
   "execution_count": 13,
   "metadata": {},
   "outputs": [
    {
     "name": "stdout",
     "output_type": "stream",
     "text": [
      "[1, 2, 3]\n"
     ]
    }
   ],
   "source": [
    "# In the notebook\n",
    "l=[1,2,3,4]\n",
    "x=filter(lambda x: x<=3,l)\n",
    "print(list(x))"
   ]
  },
  {
   "cell_type": "code",
   "execution_count": 11,
   "metadata": {},
   "outputs": [
    {
     "name": "stdout",
     "output_type": "stream",
     "text": [
      "[0, 1, 2, 3]\n"
     ]
    }
   ],
   "source": [
    "# map with lambda\n",
    "l=[1,2,3,4]\n",
    "x=map(lambda x: x-1,l)\n",
    "print(list(x))"
   ]
  },
  {
   "cell_type": "code",
   "execution_count": 14,
   "metadata": {},
   "outputs": [
    {
     "name": "stdout",
     "output_type": "stream",
     "text": [
      "<map object at 0x000002498A919C70>\n",
      "[2, 4, 6]\n"
     ]
    }
   ],
   "source": [
    "# Filter with map & lambda\n",
    "x=map(lambda x:x+x,filter(lambda x:x<=3,[1,2,3,4]))\n",
    "print(x)\n",
    "print(list(x))"
   ]
  },
  {
   "cell_type": "markdown",
   "metadata": {},
   "source": [
    "# question 2\n",
    " Recreate own python notebook for \"classes & Object\" from the pdf provided namely \"Classes&Object.pdf\""
   ]
  },
  {
   "cell_type": "raw",
   "metadata": {},
   "source": [
    "Python has been an object-oriented language. So creating and using classes and objects will be easy. \n",
    "\n",
    "#Overview of Object oriented programing\n",
    "\n",
    "* Class − A user-defined function for an object that defines a set of attributes that characterize any object of the class. The attributes are data members (class variables and instance variables) and methods, accessed via dot notation.\n",
    "\n",
    "*Object − A unique instance of a data structure that's defined by its class. An object comprises both data members (class variables and instance variables) and methods.\n",
    "\n",
    "*Class variable − A variable that is shared by all instances of a class. Class variables are defined within a class but outside any of the class's methods. Class variables are not used as frequently as instance variables are.\n",
    "\n",
    "*Data member − A class variable or instance variable that holds data associated with a class and its objects.\n",
    "\n",
    "*Function overloading − The assignment of more than one behavior to a particular function. The operation performed varies by the types of objects or arguments involved.\n",
    "\n",
    "*Instance variable − A variable that is defined inside a method and belongs only to the current instance of a class.\n",
    "\n",
    "*Inheritance − The transfer of the characteristics of a class to other classes that are derived from it.\n",
    "\n",
    "*Instance − An individual object of a certain class. An object obj that belongs to a class Circle, for example, is an instance of the class Circle.\n",
    "\n",
    "*Instantiation − The creation of an instance of a class.\n",
    "\n",
    "*Method − A special kind of function that is defined in a class definition.\n",
    "\n",
    "*Operator overloading − The assignment of more than one function to a particular operator."
   ]
  },
  {
   "cell_type": "raw",
   "metadata": {},
   "source": [
    "syntax:\n",
    "      class_abc() ---------> here abc() is a keyword\n",
    "      \n",
    "\n",
    "#The below program have\n",
    "          * creating class\n",
    "          * creating instance of a class\n",
    "          * Acessing attribute using dot operator"
   ]
  },
  {
   "cell_type": "code",
   "execution_count": 27,
   "metadata": {},
   "outputs": [
    {
     "name": "stdout",
     "output_type": "stream",
     "text": [
      "Name :  darshan , accountno:  87654321\n",
      "Name :  Ingle , accountno:  89765324\n",
      "Total Employee 2\n"
     ]
    }
   ],
   "source": [
    "class Employee:                                # creating class\n",
    "   'Common base class for all employees'\n",
    "   empCount = 0\n",
    "\n",
    "   def __init__(self, name, accountno):        # creating instance object\n",
    "      self.name = name\n",
    "      self.accountno = accountno\n",
    "      Employee.empCount += 1\n",
    "   \n",
    "   def displayCount(self):\n",
    "        print(\"Total Employee %d\" % Employee.empCount)\n",
    "\n",
    "   def displayEmployee(self):\n",
    "    print(\"Name : \", self.name,  \", accountno: \", self.accountno)\n",
    "\n",
    "\"This would create first object of Employee class\"\n",
    "emp1 = Employee(\"darshan\", 87654321)\n",
    "\"This would create second object of Employee class\"\n",
    "emp2 = Employee(\"Ingle\", 89765324)\n",
    "emp1.displayEmployee()                        # Acessing attribute using dot operator\n",
    "emp2.displayEmployee()\n",
    "print(\"Total Employee %d\" % Employee.empCount)\n",
    "emp1.age = 7  # Add an 'age' attribute.\n",
    "emp1.age = 8  # Modify 'age' attribute.\n",
    "del emp1.age  # Delete 'age' attribute"
   ]
  },
  {
   "cell_type": "raw",
   "metadata": {},
   "source": [
    "#Built-In Class Attributes\n",
    "\n",
    "                       Every Python class keeps following built-in attributes and they can be accessed using dot operator like any other attribute −\n",
    "\n",
    "__dict__ − Dictionary containing the class's namespace.\n",
    "\n",
    "__doc__ − Class documentation string or none, if undefined.\n",
    "\n",
    "__name__ − Class name.\n",
    "\n",
    "__module__ − Module name in which the class is defined. This attribute is \"__main__\" in interactive mode.\n",
    "\n",
    "__bases__ − A possibly empty tuple containing the base classes, in the order of their occurrence in the base class list."
   ]
  },
  {
   "cell_type": "code",
   "execution_count": 30,
   "metadata": {},
   "outputs": [
    {
     "name": "stdout",
     "output_type": "stream",
     "text": [
      "Employee.__doc__: Common base class for all employees\n",
      "Employee.__name__: Employee\n",
      "Employee.__module__: __main__\n",
      "Employee.__bases__: (<class 'object'>,)\n",
      "Employee.__dict__: {'__module__': '__main__', '__doc__': 'Common base class for all employees', 'empCount': 0, '__init__': <function Employee.__init__ at 0x000002498AA17AF0>, 'displayCount': <function Employee.displayCount at 0x000002498AA17940>, 'displayEmployee': <function Employee.displayEmployee at 0x000002498AA178B0>, '__dict__': <attribute '__dict__' of 'Employee' objects>, '__weakref__': <attribute '__weakref__' of 'Employee' objects>}\n"
     ]
    }
   ],
   "source": [
    "class Employee:                                # creating class\n",
    "   'Common base class for all employees'\n",
    "   empCount = 0\n",
    "\n",
    "   def __init__(self, name, accountno):        # creating instance object\n",
    "      self.name = name\n",
    "      self.accountno = accountno\n",
    "      Employee.empCount += 1\n",
    "   \n",
    "   def displayCount(self):\n",
    "        print(\"Total Employee %d\" % Employee.empCount)\n",
    "\n",
    "   def displayEmployee(self):\n",
    "    print(\"Name : \", self.name,  \", accountno: \", self.accountno)\n",
    "\n",
    "print(\"Employee.__doc__:\", Employee.__doc__)\n",
    "print(\"Employee.__name__:\", Employee.__name__)\n",
    "print(\"Employee.__module__:\", Employee.__module__) \n",
    "print(\"Employee.__bases__:\", Employee.__bases__)\n",
    "print(\"Employee.__dict__:\", Employee.__dict__)"
   ]
  },
  {
   "cell_type": "code",
   "execution_count": null,
   "metadata": {},
   "outputs": [],
   "source": []
  }
 ],
 "metadata": {
  "kernelspec": {
   "display_name": "Python 3",
   "language": "python",
   "name": "python3"
  },
  "language_info": {
   "codemirror_mode": {
    "name": "ipython",
    "version": 3
   },
   "file_extension": ".py",
   "mimetype": "text/x-python",
   "name": "python",
   "nbconvert_exporter": "python",
   "pygments_lexer": "ipython3",
   "version": "3.8.5"
  }
 },
 "nbformat": 4,
 "nbformat_minor": 4
}
